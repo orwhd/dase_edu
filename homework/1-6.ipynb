{
 "cells": [
  {
   "cell_type": "code",
   "execution_count": 14,
   "metadata": {},
   "outputs": [],
   "source": [
    "##给定列表：\n",
    "L = []\n",
    "n = 0\n",
    "n = int(input(\"请输入列表的值，输入-1停止:\"))\n",
    "while n != -1:\n",
    "    L.append(n)\n",
    "    n = int(input(\"请输入列表的值，输入-1停止:\"))"
   ]
  },
  {
   "cell_type": "code",
   "execution_count": 15,
   "metadata": {},
   "outputs": [
    {
     "name": "stdout",
     "output_type": "stream",
     "text": [
      "[4, 3, 2, 1]\n"
     ]
    }
   ],
   "source": [
    "L_re=[]\n",
    "for i in range(len(L)-1,-1,-1):\n",
    "    L_re.append(L[i])\n",
    "print(L_re)"
   ]
  },
  {
   "cell_type": "code",
   "execution_count": 16,
   "metadata": {},
   "outputs": [
    {
     "name": "stdout",
     "output_type": "stream",
     "text": [
      "[4, 3, 2, 1]\n"
     ]
    }
   ],
   "source": [
    "L_re=[]\n",
    "i = len(L)-1\n",
    "while i >= 0:\n",
    "    L_re.append(L[i])\n",
    "    i-=1\n",
    "print(L_re)"
   ]
  }
 ],
 "metadata": {
  "kernelspec": {
   "display_name": "Python 3",
   "language": "python",
   "name": "python3"
  },
  "language_info": {
   "codemirror_mode": {
    "name": "ipython",
    "version": 3
   },
   "file_extension": ".py",
   "mimetype": "text/x-python",
   "name": "python",
   "nbconvert_exporter": "python",
   "pygments_lexer": "ipython3",
   "version": "3.11.4"
  }
 },
 "nbformat": 4,
 "nbformat_minor": 2
}

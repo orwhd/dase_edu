{
 "cells": [
  {
   "cell_type": "code",
   "execution_count": 44,
   "metadata": {},
   "outputs": [
    {
     "name": "stdout",
     "output_type": "stream",
     "text": [
      "出现重复字符cccc\n"
     ]
    }
   ],
   "source": [
    "S = input(\"请输入待检测的字符串\")\n",
    "n = 0\n",
    "str_cur=''\n",
    "str_aft=''\n",
    "ran = 0\n",
    "for str_cur in S:\n",
    "    ran +=1\n",
    "    if str_cur == str_aft:\n",
    "        n+=1\n",
    "    else:\n",
    "        n+=1\n",
    "        if n >=2:\n",
    "            print(\"出现重复字符{}\".format(str_aft*n))\n",
    "        n=0\n",
    "        str_aft = str_cur\n",
    "    if ran ==len(S) and n>=1:\n",
    "        n+=1\n",
    "        print(\"出现重复字符{}\".format(str_cur*n))"
   ]
  }
 ],
 "metadata": {
  "kernelspec": {
   "display_name": "Python 3",
   "language": "python",
   "name": "python3"
  },
  "language_info": {
   "codemirror_mode": {
    "name": "ipython",
    "version": 3
   },
   "file_extension": ".py",
   "mimetype": "text/x-python",
   "name": "python",
   "nbconvert_exporter": "python",
   "pygments_lexer": "ipython3",
   "version": "3.11.4"
  }
 },
 "nbformat": 4,
 "nbformat_minor": 2
}

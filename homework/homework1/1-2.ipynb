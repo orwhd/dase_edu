{
 "cells": [
  {
   "cell_type": "code",
   "execution_count": 2,
   "metadata": {},
   "outputs": [
    {
     "name": "stdout",
     "output_type": "stream",
     "text": [
      "44.5 776.7 3243.6\n"
     ]
    }
   ],
   "source": [
    "def min_sort(x,y):\n",
    "    min = x\n",
    "    max = y\n",
    "    if x>y:\n",
    "        min = y\n",
    "        max = x\n",
    "    return min,max\n",
    "\n",
    "x = 0\n",
    "y = 0\n",
    "z = 0\n",
    "  \n",
    "x,y,z = input(\"输入x,y,z的值:\").split(\",\")\n",
    "x=float(x)\n",
    "y=float(y)\n",
    "z=float(z)\n",
    "x,y =min_sort(x,y)\n",
    "y,z =min_sort(y,z)\n",
    "x,z =min_sort(x,z)\n",
    "print(x,y,z)"
   ]
  }
 ],
 "metadata": {
  "kernelspec": {
   "display_name": "Python 3",
   "language": "python",
   "name": "python3"
  },
  "language_info": {
   "codemirror_mode": {
    "name": "ipython",
    "version": 3
   },
   "file_extension": ".py",
   "mimetype": "text/x-python",
   "name": "python",
   "nbconvert_exporter": "python",
   "pygments_lexer": "ipython3",
   "version": "3.11.4"
  }
 },
 "nbformat": 4,
 "nbformat_minor": 2
}

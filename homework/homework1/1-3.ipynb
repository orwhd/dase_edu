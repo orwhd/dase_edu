{
 "cells": [
  {
   "cell_type": "code",
   "execution_count": 4,
   "metadata": {},
   "outputs": [
    {
     "name": "stdout",
     "output_type": "stream",
     "text": [
      "4.0 3.0 2.0 1.0\n"
     ]
    }
   ],
   "source": [
    "def max_sort(x,y):\n",
    "    min = x\n",
    "    max = y\n",
    "    if x>y:\n",
    "        min = y\n",
    "        max = x\n",
    "    return max,min\n",
    "w = 0\n",
    "x = 0\n",
    "y = 0\n",
    "z = 0\n",
    "w,x,y,z = input(\"输入w,x,y,z的值:\").split(\",\")\n",
    "w=float(w)\n",
    "x=float(x)\n",
    "y=float(y)\n",
    "z=float(z)\n",
    "w,x=max_sort(w,x)\n",
    "w,y=max_sort(w,y)\n",
    "w,z=max_sort(w,z)\n",
    "x,y=max_sort(x,y)\n",
    "x,z=max_sort(x,z)\n",
    "y,z=max_sort(y,z)\n",
    "print(w,x,y,z)"
   ]
  }
 ],
 "metadata": {
  "kernelspec": {
   "display_name": "Python 3",
   "language": "python",
   "name": "python3"
  },
  "language_info": {
   "codemirror_mode": {
    "name": "ipython",
    "version": 3
   },
   "file_extension": ".py",
   "mimetype": "text/x-python",
   "name": "python",
   "nbconvert_exporter": "python",
   "pygments_lexer": "ipython3",
   "version": "3.11.4"
  }
 },
 "nbformat": 4,
 "nbformat_minor": 2
}

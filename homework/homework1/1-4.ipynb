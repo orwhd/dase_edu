{
 "cells": [
  {
   "cell_type": "code",
   "execution_count": 6,
   "metadata": {},
   "outputs": [
    {
     "name": "stdout",
     "output_type": "stream",
     "text": [
      "1\t3\t5\t7\t9\t11\t\n",
      "13\t15\t17\t19\t21\t23\t\n",
      "25\t27\t29\t31\t33\t35\t\n",
      "37\t39\t41\t43\t45\t47\t\n",
      "49\t51\t53\t55\t57\t59\t\n",
      "61\t63\t65\t67\t69\t71\t\n",
      "73\t75\t77\t79\t81\t83\t\n",
      "85\t87\t89\t91\t93\t95\t\n",
      "97\t99\t"
     ]
    }
   ],
   "source": [
    "n = 0\n",
    "for i in range(1,101):\n",
    "    if i%2 != 0:\n",
    "        print(\"{}\\t\".format(i),end=\"\")\n",
    "        n+=1\n",
    "    if n==6:\n",
    "        print(\"\\n\",end=\"\")\n",
    "        n=0"
   ]
  }
 ],
 "metadata": {
  "kernelspec": {
   "display_name": "Python 3",
   "language": "python",
   "name": "python3"
  },
  "language_info": {
   "codemirror_mode": {
    "name": "ipython",
    "version": 3
   },
   "file_extension": ".py",
   "mimetype": "text/x-python",
   "name": "python",
   "nbconvert_exporter": "python",
   "pygments_lexer": "ipython3",
   "version": "3.11.4"
  }
 },
 "nbformat": 4,
 "nbformat_minor": 2
}

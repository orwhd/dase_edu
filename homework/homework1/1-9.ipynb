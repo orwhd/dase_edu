{
 "cells": [
  {
   "cell_type": "code",
   "execution_count": 27,
   "metadata": {},
   "outputs": [],
   "source": [
    "n  = float(input(\"请输入要计算的数:\"))\n",
    "def f(x):\n",
    "    return x*x*x-n\n",
    "def f1(x):\n",
    "    return 3*x*x"
   ]
  },
  {
   "cell_type": "code",
   "execution_count": 28,
   "metadata": {},
   "outputs": [
    {
     "name": "stdout",
     "output_type": "stream",
     "text": [
      "根为17.09975946676697,迭代了17次\n"
     ]
    }
   ],
   "source": [
    "k = 0\n",
    "x =float(input(\"请输入初始值\"))\n",
    "for i in range(100000):\n",
    "    k += 1\n",
    "    m = x -f(x)/f1(x)\n",
    "    if abs(m-x )<0.00000001:\n",
    "        print(\"根为{},迭代了{}次\".format(m,k))\n",
    "        break\n",
    "    x = m"
   ]
  }
 ],
 "metadata": {
  "kernelspec": {
   "display_name": "Python 3",
   "language": "python",
   "name": "python3"
  },
  "language_info": {
   "codemirror_mode": {
    "name": "ipython",
    "version": 3
   },
   "file_extension": ".py",
   "mimetype": "text/x-python",
   "name": "python",
   "nbconvert_exporter": "python",
   "pygments_lexer": "ipython3",
   "version": "3.11.4"
  }
 },
 "nbformat": 4,
 "nbformat_minor": 2
}

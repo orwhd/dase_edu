{
 "cells": [
  {
   "cell_type": "code",
   "execution_count": 2,
   "metadata": {},
   "outputs": [
    {
     "name": "stdout",
     "output_type": "stream",
     "text": [
      "最大公约数为：4\n"
     ]
    }
   ],
   "source": [
    "a,b = input(\"请输入两个正整数，用\\\",\\\"隔开\").split(\",\")\n",
    "a = int(a)\n",
    "b = int(b)\n",
    "#辗转相除法\n",
    "while b !=0:\n",
    "    temp = a%b\n",
    "    a = b\n",
    "    b = temp\n",
    "print(\"最大公约数为：\",a,sep=\"\")\n",
    "\n"
   ]
  }
 ],
 "metadata": {
  "kernelspec": {
   "display_name": "Python 3",
   "language": "python",
   "name": "python3"
  },
  "language_info": {
   "codemirror_mode": {
    "name": "ipython",
    "version": 3
   },
   "file_extension": ".py",
   "mimetype": "text/x-python",
   "name": "python",
   "nbconvert_exporter": "python",
   "pygments_lexer": "ipython3",
   "version": "3.11.4"
  }
 },
 "nbformat": 4,
 "nbformat_minor": 2
}

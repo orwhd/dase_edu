{
 "cells": [
  {
   "cell_type": "code",
   "execution_count": 16,
   "metadata": {},
   "outputs": [
    {
     "name": "stdout",
     "output_type": "stream",
     "text": [
      "the binary number is 10101101.1101"
     ]
    }
   ],
   "source": [
    "digit = float(input(\"enter the decimal number:\"))\n",
    "print(\"the binary number is \",end=\"\")\n",
    "digit_int = int(digit) #取整数位\n",
    "digit_float = digit - digit_int #取小数位\n",
    "list_int = []\n",
    "list_float = []\n",
    "\n",
    "#获得整数位的二进制列表\n",
    "while (digit_int != 0):\n",
    "    list_int.append(digit_int%2)\n",
    "    digit_int = int(digit_int/2) \n",
    "\n",
    "#获得小数位的二进制列表\n",
    "if (digit_float != 0):\n",
    "    while (digit_float != 0):\n",
    "        list_float.append(int(digit_float*2))\n",
    "        digit_float = digit_float*2 - int(digit_float*2) \n",
    "\n",
    "#得到全数位二进制列表\n",
    "list_int.reverse() #将整数位列表翻转\n",
    "list_digit = list_int\n",
    "if list_int == []:\n",
    "    list_digit.append(\"0\")#若无整数位，补零\n",
    "list_digit.append(\".\") #接入小数点\n",
    "list_digit.extend(list_float) #接入小数位列表，\n",
    "\n",
    "for i in list_digit:\n",
    "    print(i,end=\"\")"
   ]
  }
 ],
 "metadata": {
  "kernelspec": {
   "display_name": "Python 3",
   "language": "python",
   "name": "python3"
  },
  "language_info": {
   "codemirror_mode": {
    "name": "ipython",
    "version": 3
   },
   "file_extension": ".py",
   "mimetype": "text/x-python",
   "name": "python",
   "nbconvert_exporter": "python",
   "pygments_lexer": "ipython3",
   "version": "3.11.4"
  }
 },
 "nbformat": 4,
 "nbformat_minor": 2
}

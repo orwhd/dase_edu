{
 "cells": [
  {
   "cell_type": "code",
   "execution_count": 8,
   "metadata": {},
   "outputs": [
    {
     "name": "stdout",
     "output_type": "stream",
     "text": [
      "1234321是回文数\n"
     ]
    }
   ],
   "source": [
    "num = input(\"请输入一个整数\")\n",
    "list1 = list(num)\n",
    "list1.reverse()\n",
    "num_rev = \"\".join(list1)#得到反方向读的数\n",
    "if int(num) == int(num_rev):\n",
    "    print(\"{}是回文数\".format(num))\n",
    "else:\n",
    "    print(\"{}不是回文数\".format(num))"
   ]
  }
 ],
 "metadata": {
  "kernelspec": {
   "display_name": "Python 3",
   "language": "python",
   "name": "python3"
  },
  "language_info": {
   "codemirror_mode": {
    "name": "ipython",
    "version": 3
   },
   "file_extension": ".py",
   "mimetype": "text/x-python",
   "name": "python",
   "nbconvert_exporter": "python",
   "pygments_lexer": "ipython3",
   "version": "3.11.4"
  }
 },
 "nbformat": 4,
 "nbformat_minor": 2
}

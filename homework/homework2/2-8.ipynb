{
 "cells": [
  {
   "cell_type": "code",
   "execution_count": 4,
   "metadata": {},
   "outputs": [
    {
     "name": "stdout",
     "output_type": "stream",
     "text": [
      "True\n",
      "False\n",
      "False\n"
     ]
    }
   ],
   "source": [
    "import re\n",
    "\n",
    "def validate_id_card(n:str | int):\n",
    "    n = str(n)\n",
    "    mode = re.compile(\n",
    "        r'^[1-9]\\d{5}' #地区码\n",
    "        r'(19|20)\\d{2}' #年 19xx年或20xx年\n",
    "        r'(0[1-9]|1[0-2])' #月\n",
    "        r'(0[1-9]|[1-2]\\d|3[0-1])' #日\n",
    "        r'\\d{3}' #顺序码\n",
    "        r'(\\d|X|x)$')\n",
    "    if mode.match(n):\n",
    "        return True\n",
    "    else:\n",
    "        return False\n",
    "print(validate_id_card(560545200110310421)) #正常身份证码\n",
    "print(validate_id_card(560545300110310421)) #异常身份证码\n",
    "print(validate_id_card(\"060545200110310421\")) #异常的以str的形式表示的身份证码"
   ]
  }
 ],
 "metadata": {
  "kernelspec": {
   "display_name": "Python 3",
   "language": "python",
   "name": "python3"
  },
  "language_info": {
   "codemirror_mode": {
    "name": "ipython",
    "version": 3
   },
   "file_extension": ".py",
   "mimetype": "text/x-python",
   "name": "python",
   "nbconvert_exporter": "python",
   "pygments_lexer": "ipython3",
   "version": "3.11.4"
  }
 },
 "nbformat": 4,
 "nbformat_minor": 2
}

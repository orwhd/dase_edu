{
 "cells": [
  {
   "cell_type": "code",
   "execution_count": 6,
   "metadata": {},
   "outputs": [
    {
     "name": "stdout",
     "output_type": "stream",
     "text": [
      "17是质数\n"
     ]
    }
   ],
   "source": [
    "a = int(input())\n",
    "if a == 1:\n",
    "    print(\"{}不是质数\".format(a))\n",
    "elif a==2:\n",
    "    print(\"{}是质数\".format(a))\n",
    "else:\n",
    "    b = True\n",
    "    for i in range(2,a):\n",
    "        if a%i == 0:\n",
    "            b = False\n",
    "            break\n",
    "    if b:\n",
    "        print(\"{}是质数\".format(a))\n",
    "    else:\n",
    "        print(\"{}不是质数\".format(a))\n",
    "\n"
   ]
  }
 ],
 "metadata": {
  "kernelspec": {
   "display_name": "Python 3",
   "language": "python",
   "name": "python3"
  },
  "language_info": {
   "codemirror_mode": {
    "name": "ipython",
    "version": 3
   },
   "file_extension": ".py",
   "mimetype": "text/x-python",
   "name": "python",
   "nbconvert_exporter": "python",
   "pygments_lexer": "ipython3",
   "version": "3.11.4"
  }
 },
 "nbformat": 4,
 "nbformat_minor": 2
}

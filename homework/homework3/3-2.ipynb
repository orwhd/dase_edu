{
 "cells": [
  {
   "cell_type": "code",
   "execution_count": 18,
   "metadata": {},
   "outputs": [
    {
     "name": "stdout",
     "output_type": "stream",
     "text": [
      "[1, 2, 3, 4, 5, 6]\n"
     ]
    }
   ],
   "source": [
    "def sorted_insertion(arr):\n",
    "    for i in range(1,len(arr)):\n",
    "        j = i\n",
    "        temp = arr[i]\n",
    "        while temp < arr[j-1] and j > 0:\n",
    "            arr[j] = arr[j-1]\n",
    "            j -= 1\n",
    "        arr[j] = temp\n",
    "    return arr\n",
    "\n",
    "arr = list(map(int,input(\"enter the numbers,using the space to detach:\").split(\" \")))\n",
    "print(sorted_insertion(arr))\n",
    "\n",
    "\n",
    "##5 2 4 6 1 3\n",
    "\n",
    "\n"
   ]
  }
 ],
 "metadata": {
  "kernelspec": {
   "display_name": "Python 3",
   "language": "python",
   "name": "python3"
  },
  "language_info": {
   "codemirror_mode": {
    "name": "ipython",
    "version": 3
   },
   "file_extension": ".py",
   "mimetype": "text/x-python",
   "name": "python",
   "nbconvert_exporter": "python",
   "pygments_lexer": "ipython3",
   "version": "3.11.4"
  }
 },
 "nbformat": 4,
 "nbformat_minor": 2
}

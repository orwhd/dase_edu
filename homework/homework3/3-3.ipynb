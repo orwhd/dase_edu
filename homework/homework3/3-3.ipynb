{
 "cells": [
  {
   "cell_type": "code",
   "execution_count": 1,
   "metadata": {},
   "outputs": [
    {
     "name": "stdout",
     "output_type": "stream",
     "text": [
      "[10, 13, 14, 29, 37]\n"
     ]
    }
   ],
   "source": [
    "def sorted_selection(arr:list):\n",
    "    arr_sorted =[]\n",
    "    while arr != []:\n",
    "        min1 = arr[0]\n",
    "        for i in range(0,len(arr)):\n",
    "            if (arr[i] < min1):\n",
    "                min1 = arr[i]\n",
    "        arr_sorted.append(min1)\n",
    "        arr.remove(min1)\n",
    "    return arr_sorted\n",
    "\n",
    "arr = list(map(int,input(\"enter the numbers,using the space to detach:\").split(\" \")))\n",
    "print(sorted_selection(arr))\n",
    "            \n",
    "##29 10 14 37 13\n"
   ]
  }
 ],
 "metadata": {
  "kernelspec": {
   "display_name": "Python 3",
   "language": "python",
   "name": "python3"
  },
  "language_info": {
   "codemirror_mode": {
    "name": "ipython",
    "version": 3
   },
   "file_extension": ".py",
   "mimetype": "text/x-python",
   "name": "python",
   "nbconvert_exporter": "python",
   "pygments_lexer": "ipython3",
   "version": "3.11.4"
  }
 },
 "nbformat": 4,
 "nbformat_minor": 2
}

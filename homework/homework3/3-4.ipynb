{
 "cells": [
  {
   "cell_type": "code",
   "execution_count": 6,
   "metadata": {},
   "outputs": [
    {
     "name": "stdout",
     "output_type": "stream",
     "text": [
      "[1, 21, 23, 47, 92, 123, 199, 912]\n"
     ]
    }
   ],
   "source": [
    "def sorted_quick(arr:list):\n",
    "    if len(arr) <= 1:\n",
    "        return arr\n",
    "    key = arr[len(arr) // 2]\n",
    "    left = [x for x in arr if x < key]\n",
    "    middle = [x for x in arr if x == key]\n",
    "    right = [x for x in arr if x > key]\n",
    "    return sorted_quick(left) + middle + sorted_quick(right)\n",
    "\n",
    "arr = list(map(int,input(\"enter the numbers,using the space to detach:\").split(\" \")))\n",
    "print(sorted_quick(arr))\n",
    "\n",
    "#47 21 23 199 123 912 92 1"
   ]
  }
 ],
 "metadata": {
  "kernelspec": {
   "display_name": "Python 3",
   "language": "python",
   "name": "python3"
  },
  "language_info": {
   "codemirror_mode": {
    "name": "ipython",
    "version": 3
   },
   "file_extension": ".py",
   "mimetype": "text/x-python",
   "name": "python",
   "nbconvert_exporter": "python",
   "pygments_lexer": "ipython3",
   "version": "3.11.4"
  }
 },
 "nbformat": 4,
 "nbformat_minor": 2
}

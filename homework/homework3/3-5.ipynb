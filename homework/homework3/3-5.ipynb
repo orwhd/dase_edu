{
 "cells": [
  {
   "cell_type": "code",
   "execution_count": 24,
   "metadata": {},
   "outputs": [],
   "source": [
    "import random\n",
    "from time import perf_counter\n",
    "from copy import deepcopy"
   ]
  },
  {
   "cell_type": "code",
   "execution_count": 25,
   "metadata": {},
   "outputs": [],
   "source": [
    "def sorted_insertion(arr):\n",
    "    for i in range(1,len(arr)):\n",
    "        j = i\n",
    "        temp = arr[i]\n",
    "        while temp < arr[j-1] and j > 0:\n",
    "            arr[j] = arr[j-1]\n",
    "            j -= 1\n",
    "        arr[j] = temp\n",
    "    return arr\n"
   ]
  },
  {
   "cell_type": "code",
   "execution_count": 26,
   "metadata": {},
   "outputs": [],
   "source": [
    "def sorted_selection(arr:list):\n",
    "    arr_sorted =[]\n",
    "    while arr != []:\n",
    "        min1 = arr[0]\n",
    "        for i in range(0,len(arr)):\n",
    "            if (arr[i] < min1):\n",
    "                min1 = arr[i]\n",
    "        arr_sorted.append(min1)\n",
    "        arr.remove(min1)\n",
    "    return arr_sorted\n",
    "\n"
   ]
  },
  {
   "cell_type": "code",
   "execution_count": 27,
   "metadata": {},
   "outputs": [],
   "source": [
    "def sorted_quick(arr:list):\n",
    "    if len(arr) <= 1:\n",
    "        return arr\n",
    "    key = arr[len(arr) // 2]\n",
    "    left = [x for x in arr if x < key]\n",
    "    middle = [x for x in arr if x == key]\n",
    "    right = [x for x in arr if x > key]\n",
    "    return sorted_quick(left) + middle + sorted_quick(right)"
   ]
  },
  {
   "cell_type": "code",
   "execution_count": 28,
   "metadata": {},
   "outputs": [
    {
     "name": "stdout",
     "output_type": "stream",
     "text": [
      "不同排序对100，1000，10000的数列排序的耗时以此为：\n",
      "sorted_insertion:\t0.0001068001147360\t0.0139385000802577\t1.3573598000220954\t\n",
      "sorted_selection:\t0.0001355998683721\t0.0110580001492053\t1.2418460000772029\t\n",
      "sorted_quick    :\t0.0001099999062717\t0.0012089998926967\t0.0140059001278132\t\n"
     ]
    }
   ],
   "source": [
    "\n",
    "arr1 = [random.uniform(0,100)for i in range(100)]\n",
    "arr2 = [random.uniform(0,1000)for i in range(1000)]\n",
    "arr3 = [random.uniform(0,10000)for i in range(10000)]\n",
    "ARR1 = [arr1,arr2,arr3]\n",
    "sta  = [[0 for x in range(3)]for i in range(3)]\n",
    "for i in range(3):\n",
    "    for k in range(3):\n",
    "        ARR = deepcopy(ARR1)\n",
    "        time1 = perf_counter()\n",
    "        if i == 0:#简单判断语句耗时小，可以忽略不计\n",
    "            sorted_insertion(ARR[k])\n",
    "        if i == 1:\n",
    "            sorted_selection(ARR[k])\n",
    "        if i == 2:\n",
    "            sorted_quick(ARR[k])\n",
    "        derta_time = perf_counter() - time1\n",
    "        sta[i][k] = derta_time\n",
    "print(\"不同排序对100，1000，10000的数列排序的耗时以此为：\")\n",
    "for i in range(3):\n",
    "    if i == 0:\n",
    "        print(\"sorted_insertion:\\t\",end=\"\")\n",
    "    if i == 1:\n",
    "        print(\"sorted_selection:\\t\",end=\"\")\n",
    "    if i == 2:\n",
    "        print(\"sorted_quick    :\\t\",end=\"\")\n",
    "    for k in range(3):\n",
    "        print(\"{:.16f}\\t\".format(sta[i][k]),end=\"\")\n",
    "    if k == 2:\n",
    "        print(\"\\n\",end=\"\")\n"
   ]
  }
 ],
 "metadata": {
  "kernelspec": {
   "display_name": "Python 3",
   "language": "python",
   "name": "python3"
  },
  "language_info": {
   "codemirror_mode": {
    "name": "ipython",
    "version": 3
   },
   "file_extension": ".py",
   "mimetype": "text/x-python",
   "name": "python",
   "nbconvert_exporter": "python",
   "pygments_lexer": "ipython3",
   "version": "3.11.4"
  }
 },
 "nbformat": 4,
 "nbformat_minor": 2
}

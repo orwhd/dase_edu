{
 "cells": [
  {
   "cell_type": "code",
   "execution_count": 11,
   "metadata": {},
   "outputs": [
    {
     "name": "stdout",
     "output_type": "stream",
     "text": [
      "1729052319.727329\n",
      "2024-10-16 12:18:39\n",
      "2024-10-16 12:18:39.727329\n"
     ]
    }
   ],
   "source": [
    "import time##底层\n",
    "from datetime import datetime\n",
    "\n",
    "print(time.time())#时间戳\n",
    "\n",
    "time_man = time.strftime(\"%Y-%m-%d %H:%M:%S\",time.localtime())\n",
    "print(time_man)##格式化的时间\n",
    "\n",
    "print(datetime.now())##高级模块的系统时间\n",
    "\n"
   ]
  }
 ],
 "metadata": {
  "kernelspec": {
   "display_name": "Python 3",
   "language": "python",
   "name": "python3"
  },
  "language_info": {
   "codemirror_mode": {
    "name": "ipython",
    "version": 3
   },
   "file_extension": ".py",
   "mimetype": "text/x-python",
   "name": "python",
   "nbconvert_exporter": "python",
   "pygments_lexer": "ipython3",
   "version": "3.11.4"
  }
 },
 "nbformat": 4,
 "nbformat_minor": 2
}

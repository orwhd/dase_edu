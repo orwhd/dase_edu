{
 "cells": [
  {
   "cell_type": "code",
   "execution_count": 15,
   "metadata": {},
   "outputs": [
    {
     "name": "stdout",
     "output_type": "stream",
     "text": [
      "average:\n",
      "chinese\tmath\tenglish\n",
      "82.6\t81.0\t81.8\n"
     ]
    }
   ],
   "source": [
    "import pandas as pd\n",
    "import time\n",
    "df = pd.read_csv(\"stuGrade.csv\")\n",
    "score_chi = df[\"chinese\"].mean()\n",
    "score_math = df[\"math\"].mean()\n",
    "score_english = df[\"english\"].mean()\n",
    "print(\"average:\")\n",
    "print(\"chinese\\tmath\\tenglish\")\n",
    "print(\"{}\\t{}\\t{}\".format(score_chi,score_math,score_english))\n"
   ]
  },
  {
   "cell_type": "code",
   "execution_count": 16,
   "metadata": {},
   "outputs": [],
   "source": [
    "time_man = time.strftime(\"%Y-%m-%d %H:%M:%S\",time.localtime())\n",
    "time.sleep(2)\n",
    "time_man_2 = time.strftime(\"%Y-%m-%d %H:%M:%S\",time.localtime())\n",
    "content=\"\"\"10231900443 徐志诚\n",
    "{:.2f},{:.2f},{:.2f}\n",
    "{}\n",
    "{}\"\"\".format(score_chi,score_math,score_english,time_man,time_man_2)\n",
    "with open(\"my.txt\",\"w\") as file:\n",
    "    file.write(content)"
   ]
  }
 ],
 "metadata": {
  "kernelspec": {
   "display_name": "Python 3",
   "language": "python",
   "name": "python3"
  },
  "language_info": {
   "codemirror_mode": {
    "name": "ipython",
    "version": 3
   },
   "file_extension": ".py",
   "mimetype": "text/x-python",
   "name": "python",
   "nbconvert_exporter": "python",
   "pygments_lexer": "ipython3",
   "version": "3.11.4"
  }
 },
 "nbformat": 4,
 "nbformat_minor": 2
}

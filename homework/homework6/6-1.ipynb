{
 "cells": [
  {
   "cell_type": "code",
   "execution_count": 2,
   "metadata": {},
   "outputs": [
    {
     "name": "stdout",
     "output_type": "stream",
     "text": [
      "The max num: 1394.45\n",
      "The min num: 200.68\n",
      "The average: 346.9679\n",
      "The median num: 273.66999999999996\n"
     ]
    }
   ],
   "source": [
    "import numpy as np\n",
    "import pandas as pd\n",
    "df = pd.read_csv(\"data/2023_6/open_rank_20236.csv\")\n",
    "print(\"The max num:\",df[\"value\"].max())\n",
    "print(\"The min num:\",df[\"value\"].min())\n",
    "print(\"The average:\",df[\"value\"].mean())\n",
    "print(\"The median num:\",df[\"value\"].median())"
   ]
  }
 ],
 "metadata": {
  "kernelspec": {
   "display_name": "Python 3",
   "language": "python",
   "name": "python3"
  },
  "language_info": {
   "codemirror_mode": {
    "name": "ipython",
    "version": 3
   },
   "file_extension": ".py",
   "mimetype": "text/x-python",
   "name": "python",
   "nbconvert_exporter": "python",
   "pygments_lexer": "ipython3",
   "version": "3.11.4"
  }
 },
 "nbformat": 4,
 "nbformat_minor": 2
}

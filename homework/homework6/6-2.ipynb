{
 "cells": [
  {
   "cell_type": "code",
   "execution_count": 91,
   "metadata": {},
   "outputs": [
    {
     "name": "stdout",
     "output_type": "stream",
     "text": [
      "                                     repo rate_month_average\n",
      "0                MicrosoftDocs/azure-docs             -1.64%\n",
      "1                           NixOS/nixpkgs              0.03%\n",
      "2                          dotnet/runtime             -2.09%\n",
      "3                          elastic/kibana             -0.33%\n",
      "4  firstcontributions/first-contributions             12.91%\n",
      "5                         flutter/flutter             -1.14%\n",
      "6                     home-assistant/core              0.77%\n",
      "7                        microsoft/vscode              2.10%\n",
      "8                         pytorch/pytorch              1.21%\n",
      "9                          rust-lang/rust             -0.35%\n"
     ]
    },
    {
     "name": "stderr",
     "output_type": "stream",
     "text": [
      "C:\\Users\\zhich\\AppData\\Local\\Temp\\ipykernel_26456\\3466915999.py:9: FutureWarning: Series.__getitem__ treating keys as positions is deprecated. In a future version, integer keys will always be treated as labels (consistent with DataFrame behavior). To access a value by position, use `ser.iloc[pos]`\n",
      "  temp = (df.iloc[i][j+1] - df.iloc[i][j] )/df.iloc[i][j]\n"
     ]
    }
   ],
   "source": [
    "import numpy as np\n",
    "import pandas as pd\n",
    "df = pd.read_csv(\"data/2022/activity_2022.csv\")\n",
    "arr = np.zeros((10,1))\n",
    "for i in range(10):\n",
    "    rate_sum = 0\n",
    "    for j in range(1,13):\n",
    "            if (j != 12):\n",
    "                temp = (df.iloc[i][j+1] - df.iloc[i][j] )/df.iloc[i][j]\n",
    "                rate_sum += temp\n",
    "    arr[i,0] = rate_sum/12\n",
    "df[\"rate_month_average\"] = arr\n",
    "df[\"rate_month_average\"] = df[\"rate_month_average\"].apply(lambda x:f\"{x:.2%}\")\n",
    "print(df.loc[:,[\"repo\",\"rate_month_average\"]])"
   ]
  }
 ],
 "metadata": {
  "kernelspec": {
   "display_name": "Python 3",
   "language": "python",
   "name": "python3"
  },
  "language_info": {
   "codemirror_mode": {
    "name": "ipython",
    "version": 3
   },
   "file_extension": ".py",
   "mimetype": "text/x-python",
   "name": "python",
   "nbconvert_exporter": "python",
   "pygments_lexer": "ipython3",
   "version": "3.11.4"
  }
 },
 "nbformat": 4,
 "nbformat_minor": 2
}

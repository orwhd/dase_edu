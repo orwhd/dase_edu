{
 "cells": [
  {
   "cell_type": "code",
   "execution_count": 1,
   "metadata": {},
   "outputs": [],
   "source": [
    "tool_kit = 0.5\n",
    "system_prog = 0.25\n",
    "unsoft = 0.25\n",
    "values = [0.5,0.25,0.25]\n",
    "HTML_Markdown_under_unsoft= 0.85\n",
    "HTML_Markdown_under_soft = 0.10\n",
    "JS_under_tool = 0.35\n",
    "JS_under_untool = 0.10"
   ]
  },
  {
   "cell_type": "code",
   "execution_count": 2,
   "metadata": {},
   "outputs": [],
   "source": [
    "HTML_Markdown = HTML_Markdown_under_soft*(1-unsoft) + HTML_Markdown_under_unsoft*unsoft"
   ]
  },
  {
   "cell_type": "code",
   "execution_count": 3,
   "metadata": {},
   "outputs": [
    {
     "name": "stdout",
     "output_type": "stream",
     "text": [
      "P(unsoft|HTML/Markdown)=73.913043%\n"
     ]
    }
   ],
   "source": [
    "##6-4\n",
    "unsoft_under_HTML_Markdown = unsoft*HTML_Markdown_under_unsoft/HTML_Markdown\n",
    "print(\"P(unsoft|HTML/Markdown)={:2%}\".format(unsoft_under_HTML_Markdown))"
   ]
  },
  {
   "cell_type": "code",
   "execution_count": 4,
   "metadata": {},
   "outputs": [],
   "source": [
    "JS = JS_under_tool*tool_kit + JS_under_untool*(1-tool_kit)"
   ]
  },
  {
   "cell_type": "code",
   "execution_count": 5,
   "metadata": {},
   "outputs": [
    {
     "name": "stdout",
     "output_type": "stream",
     "text": [
      "P(tool_kit|JS)=77.78%\n"
     ]
    }
   ],
   "source": [
    "##6-5\n",
    "tool_under_JS = tool_kit*JS_under_tool/JS\n",
    "print(\"P(tool_kit|JS)={:.2%}\".format(tool_under_JS))"
   ]
  }
 ],
 "metadata": {
  "kernelspec": {
   "display_name": "Python 3",
   "language": "python",
   "name": "python3"
  },
  "language_info": {
   "codemirror_mode": {
    "name": "ipython",
    "version": 3
   },
   "file_extension": ".py",
   "mimetype": "text/x-python",
   "name": "python",
   "nbconvert_exporter": "python",
   "pygments_lexer": "ipython3",
   "version": "3.11.4"
  }
 },
 "nbformat": 4,
 "nbformat_minor": 2
}
